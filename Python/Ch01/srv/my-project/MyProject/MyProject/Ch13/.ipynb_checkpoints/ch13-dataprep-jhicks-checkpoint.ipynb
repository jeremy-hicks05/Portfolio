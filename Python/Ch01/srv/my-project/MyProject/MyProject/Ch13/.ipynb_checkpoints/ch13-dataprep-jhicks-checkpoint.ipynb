{
 "cells": [
  {
   "cell_type": "markdown",
   "id": "e31c1569-5506-45a9-9188-2c13249b4c0d",
   "metadata": {},
   "source": [
    "# Chapter 9 - Data Science\n",
    "## Data Preparation"
   ]
  },
  {
   "cell_type": "markdown",
   "id": "fc5bf53e-3ba9-4d6a-873a-59196e331d3c",
   "metadata": {},
   "source": [
    "## 0 - Setting up the notebook"
   ]
  },
  {
   "cell_type": "code",
   "execution_count": 1,
   "id": "49604e9e-2a48-4591-824c-b73a4035cafb",
   "metadata": {},
   "outputs": [],
   "source": [
    "import json\n",
    "import random\n",
    "from datetime import date, timedelta\n",
    "import faker"
   ]
  },
  {
   "cell_type": "code",
   "execution_count": 2,
   "id": "c38f74dc-2e0d-42ae-ab8e-f866c7fb0948",
   "metadata": {},
   "outputs": [],
   "source": [
    "fake = faker.Faker()"
   ]
  },
  {
   "cell_type": "code",
   "execution_count": 3,
   "id": "14983c5e-6ca6-400c-8e8e-f5414c327a4f",
   "metadata": {},
   "outputs": [],
   "source": [
    "usernames = set()\n",
    "usernames_no = 1000\n",
    "\n",
    "# populate the set with 1000 unique usernames\n",
    "while len(usernames) < usernames_no:\n",
    "    usernames.add(fake.user_name())"
   ]
  },
  {
   "cell_type": "code",
   "execution_count": 4,
   "id": "74227f14-0ad5-47fd-b0ef-064b2405e4d9",
   "metadata": {},
   "outputs": [
    {
     "data": {
      "text/plain": [
       "['{\"username\": \"uwalker\", \"name\": \"Tanya Gray\", \"gender\": \"F\", \"email\": \"fmarquez@example.net\", \"age\": 43, \"address\": \"PSC 3134, Box 2577\\\\nAPO AP 25102\"}',\n",
       " '{\"username\": \"tyrone78\", \"name\": \"Michael Dodson\", \"gender\": \"M\", \"email\": \"michael54@example.net\", \"age\": 56, \"address\": \"5993 Miller Ways Apt. 148\\\\nWest Jacob, AR 59795\"}',\n",
       " '{\"username\": \"vstuart\", \"name\": \"Melissa Frank\", \"gender\": \"F\", \"email\": \"sandra87@example.com\", \"age\": 86, \"address\": \"16810 Pamela Prairie\\\\nTracyhaven, FM 21572\"}']"
      ]
     },
     "execution_count": 4,
     "metadata": {},
     "output_type": "execute_result"
    }
   ],
   "source": [
    "def get_random_name_and_gender():\n",
    "    skew = .6 # 60% of users will be female\n",
    "    male = random.random() > skew\n",
    "    if male:\n",
    "        return fake.name_male(), 'M'\n",
    "    else:\n",
    "        return fake.name_female(), 'F'\n",
    "\n",
    "def get_users(usernames):\n",
    "    users = []\n",
    "    for username in usernames:\n",
    "        name, gender = get_random_name_and_gender()\n",
    "        user = {\n",
    "            'username': username,\n",
    "            'name': name,\n",
    "            'gender': gender,\n",
    "            'email': fake.email(),\n",
    "            'age': fake.random_int(min=18, max=90),\n",
    "            'address': fake.address()\n",
    "        }\n",
    "        users.append(json.dumps(user))\n",
    "    return users\n",
    "\n",
    "users = get_users(usernames)\n",
    "users[:3]"
   ]
  },
  {
   "cell_type": "code",
   "execution_count": 5,
   "id": "7cab0dc3-08ba-4eaf-83d3-fa27c1021298",
   "metadata": {},
   "outputs": [],
   "source": [
    "# compaign name format:\n",
    "# InternalType_StartDate_EndDate_TargetAge_TargetGender_Currency\n",
    "def get_type():\n",
    "    # just some gibberish internal codes\n",
    "    types = ['AKX', 'BYU', 'GRZ', 'KTR']\n",
    "    return random.choice(types)\n",
    "\n",
    "def get_start_end_dates():\n",
    "    duration = random.randint(1, 2 * 365)\n",
    "    offset = random.randint(-365, 365)\n",
    "    start = date.today() - timedelta(days=offset)\n",
    "    end = start + timedelta(days=duration)\n",
    "\n",
    "    def _format_date(date_):\n",
    "        return date_.strftime(\"%Y%m%d\")\n",
    "    return _format_date(start), _format_date(end)\n",
    "\n",
    "def get_age():\n",
    "    age = random.randrange(20, 46, 5)\n",
    "    diff = random.randrange(5, 26, 5)\n",
    "    return '{}-{}'.format(age, age + diff)\n",
    "\n",
    "def get_gender():\n",
    "    return random.choice(('M', 'F', 'B'))\n",
    "\n",
    "def get_currency():\n",
    "    return random.choice(('GBP', 'EUR', 'USD'))\n",
    "\n",
    "def get_campaign_name():\n",
    "    separator = '_'\n",
    "    type_ = get_type()\n",
    "    start, end = get_start_end_dates()\n",
    "    age = get_age()\n",
    "    gender = get_gender()\n",
    "    currency = get_currency()\n",
    "    return separator.join(\n",
    "        (type_, start, end, age, gender, currency))"
   ]
  },
  {
   "cell_type": "code",
   "execution_count": 6,
   "id": "dc78912f-b472-40e0-8d5a-ff44ac9c71eb",
   "metadata": {},
   "outputs": [],
   "source": [
    "# campaign data:\n",
    "# name, budget, spent, clicks, impressions\n",
    "def get_campaign_data():\n",
    "    name = get_campaign_name()\n",
    "    budget = random.randint(10**3, 10**6)\n",
    "    spent = random.randint(10**2, budget)\n",
    "    clicks = int(random.triangular(10**2, 10**5, 0.2 * 10**5))\n",
    "    impressions = int(random.gauss(0.5 * 10**6, 2))\n",
    "    return {\n",
    "        'cmp_name': name,\n",
    "        'cmp_bgt': budget,\n",
    "        'cmp_spent': spent,\n",
    "        'cmp_clicks': clicks,\n",
    "        'cmp_impr': impressions\n",
    "    }"
   ]
  },
  {
   "cell_type": "code",
   "execution_count": 7,
   "id": "691c7066-eaca-4e4a-b4c2-d8c782dd55b2",
   "metadata": {},
   "outputs": [],
   "source": [
    "def get_data(users):\n",
    "    data = []\n",
    "    for user in users:\n",
    "        campaigns = [get_campaign_data()\n",
    "                     for _ in range(random.randint(2, 8))]\n",
    "        data.append({'user': user, 'campaigns': campaigns})\n",
    "    return data"
   ]
  },
  {
   "cell_type": "code",
   "execution_count": 8,
   "id": "58337d05-029d-4213-9777-82456e7e1fca",
   "metadata": {},
   "outputs": [
    {
     "data": {
      "text/plain": [
       "[{'user': '{\"username\": \"uwalker\", \"name\": \"Tanya Gray\", \"gender\": \"F\", \"email\": \"fmarquez@example.net\", \"age\": 43, \"address\": \"PSC 3134, Box 2577\\\\nAPO AP 25102\"}',\n",
       "  'campaigns': [{'cmp_name': 'AKX_20240505_20250130_25-30_M_EUR',\n",
       "    'cmp_bgt': 965482,\n",
       "    'cmp_spent': 801270,\n",
       "    'cmp_clicks': 47633,\n",
       "    'cmp_impr': 499998},\n",
       "   {'cmp_name': 'KTR_20240425_20260318_30-50_M_GBP',\n",
       "    'cmp_bgt': 480386,\n",
       "    'cmp_spent': 363936,\n",
       "    'cmp_clicks': 79887,\n",
       "    'cmp_impr': 499999},\n",
       "   {'cmp_name': 'AKX_20221225_20240219_20-35_F_USD',\n",
       "    'cmp_bgt': 161578,\n",
       "    'cmp_spent': 118809,\n",
       "    'cmp_clicks': 65196,\n",
       "    'cmp_impr': 500000}]},\n",
       " {'user': '{\"username\": \"tyrone78\", \"name\": \"Michael Dodson\", \"gender\": \"M\", \"email\": \"michael54@example.net\", \"age\": 56, \"address\": \"5993 Miller Ways Apt. 148\\\\nWest Jacob, AR 59795\"}',\n",
       "  'campaigns': [{'cmp_name': 'AKX_20221222_20241111_20-30_B_EUR',\n",
       "    'cmp_bgt': 23646,\n",
       "    'cmp_spent': 13083,\n",
       "    'cmp_clicks': 45014,\n",
       "    'cmp_impr': 499997},\n",
       "   {'cmp_name': 'AKX_20230525_20240819_45-50_B_USD',\n",
       "    'cmp_bgt': 938501,\n",
       "    'cmp_spent': 603915,\n",
       "    'cmp_clicks': 61271,\n",
       "    'cmp_impr': 499998}]}]"
      ]
     },
     "execution_count": 8,
     "metadata": {},
     "output_type": "execute_result"
    }
   ],
   "source": [
    "rough_data = get_data(users)\n",
    "rough_data[:2] # let's take a peek"
   ]
  },
  {
   "cell_type": "code",
   "execution_count": 9,
   "id": "ea2b49aa-23fe-4c50-9635-554c62f8619f",
   "metadata": {},
   "outputs": [
    {
     "data": {
      "text/plain": [
       "[{'cmp_name': 'AKX_20240505_20250130_25-30_M_EUR',\n",
       "  'cmp_bgt': 965482,\n",
       "  'cmp_spent': 801270,\n",
       "  'cmp_clicks': 47633,\n",
       "  'cmp_impr': 499998,\n",
       "  'user': '{\"username\": \"uwalker\", \"name\": \"Tanya Gray\", \"gender\": \"F\", \"email\": \"fmarquez@example.net\", \"age\": 43, \"address\": \"PSC 3134, Box 2577\\\\nAPO AP 25102\"}'},\n",
       " {'cmp_name': 'KTR_20240425_20260318_30-50_M_GBP',\n",
       "  'cmp_bgt': 480386,\n",
       "  'cmp_spent': 363936,\n",
       "  'cmp_clicks': 79887,\n",
       "  'cmp_impr': 499999,\n",
       "  'user': '{\"username\": \"uwalker\", \"name\": \"Tanya Gray\", \"gender\": \"F\", \"email\": \"fmarquez@example.net\", \"age\": 43, \"address\": \"PSC 3134, Box 2577\\\\nAPO AP 25102\"}'}]"
      ]
     },
     "execution_count": 9,
     "metadata": {},
     "output_type": "execute_result"
    }
   ],
   "source": [
    "data = []\n",
    "for datum in rough_data:\n",
    "    for campaign in datum['campaigns']:\n",
    "        campaign.update({'user': datum['user']})\n",
    "        data.append(campaign)\n",
    "data[:2] # let's take another peek"
   ]
  },
  {
   "cell_type": "code",
   "execution_count": null,
   "id": "cea96948-e5a0-47dc-8b33-f5cf6758f218",
   "metadata": {},
   "outputs": [],
   "source": [
    "with open('data.json', 'w') as stream:\n",
    "    stream.write(json.dumps(data))"
   ]
  }
 ],
 "metadata": {
  "kernelspec": {
   "display_name": "Python 3 (ipykernel)",
   "language": "python",
   "name": "python3"
  },
  "language_info": {
   "codemirror_mode": {
    "name": "ipython",
    "version": 3
   },
   "file_extension": ".py",
   "mimetype": "text/x-python",
   "name": "python",
   "nbconvert_exporter": "python",
   "pygments_lexer": "ipython3",
   "version": "3.11.3"
  }
 },
 "nbformat": 4,
 "nbformat_minor": 5
}

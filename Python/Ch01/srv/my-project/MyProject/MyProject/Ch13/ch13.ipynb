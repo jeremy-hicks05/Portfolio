{
 "cells": [
  {
   "cell_type": "code",
   "execution_count": 1,
   "id": "d66648a3-c93a-4ba1-85dd-c83692dc1143",
   "metadata": {},
   "outputs": [],
   "source": [
    "import json\n",
    "import arrow\n",
    "import numpy as np\n",
    "import pandas as pd\n",
    "from pandas import DataFrame"
   ]
  },
  {
   "cell_type": "code",
   "execution_count": 2,
   "id": "7be3e405-b35d-4a4b-8951-dbda70c4a1f7",
   "metadata": {},
   "outputs": [
    {
     "data": {
      "text/html": [
       "<div>\n",
       "<style scoped>\n",
       "    .dataframe tbody tr th:only-of-type {\n",
       "        vertical-align: middle;\n",
       "    }\n",
       "\n",
       "    .dataframe tbody tr th {\n",
       "        vertical-align: top;\n",
       "    }\n",
       "\n",
       "    .dataframe thead th {\n",
       "        text-align: right;\n",
       "    }\n",
       "</style>\n",
       "<table border=\"1\" class=\"dataframe\">\n",
       "  <thead>\n",
       "    <tr style=\"text-align: right;\">\n",
       "      <th></th>\n",
       "      <th>cmp_name</th>\n",
       "      <th>cmp_bgt</th>\n",
       "      <th>cmp_spent</th>\n",
       "      <th>cmp_clicks</th>\n",
       "      <th>cmp_impr</th>\n",
       "      <th>user</th>\n",
       "    </tr>\n",
       "  </thead>\n",
       "  <tbody>\n",
       "    <tr>\n",
       "      <th>0</th>\n",
       "      <td>AKX_20240505_20250130_25-30_M_EUR</td>\n",
       "      <td>965482</td>\n",
       "      <td>801270</td>\n",
       "      <td>47633</td>\n",
       "      <td>499998</td>\n",
       "      <td>{\"username\": \"uwalker\", \"name\": \"Tanya Gray\", ...</td>\n",
       "    </tr>\n",
       "    <tr>\n",
       "      <th>1</th>\n",
       "      <td>KTR_20240425_20260318_30-50_M_GBP</td>\n",
       "      <td>480386</td>\n",
       "      <td>363936</td>\n",
       "      <td>79887</td>\n",
       "      <td>499999</td>\n",
       "      <td>{\"username\": \"uwalker\", \"name\": \"Tanya Gray\", ...</td>\n",
       "    </tr>\n",
       "    <tr>\n",
       "      <th>2</th>\n",
       "      <td>AKX_20221225_20240219_20-35_F_USD</td>\n",
       "      <td>161578</td>\n",
       "      <td>118809</td>\n",
       "      <td>65196</td>\n",
       "      <td>500000</td>\n",
       "      <td>{\"username\": \"uwalker\", \"name\": \"Tanya Gray\", ...</td>\n",
       "    </tr>\n",
       "    <tr>\n",
       "      <th>3</th>\n",
       "      <td>AKX_20221222_20241111_20-30_B_EUR</td>\n",
       "      <td>23646</td>\n",
       "      <td>13083</td>\n",
       "      <td>45014</td>\n",
       "      <td>499997</td>\n",
       "      <td>{\"username\": \"tyrone78\", \"name\": \"Michael Dods...</td>\n",
       "    </tr>\n",
       "    <tr>\n",
       "      <th>4</th>\n",
       "      <td>AKX_20230525_20240819_45-50_B_USD</td>\n",
       "      <td>938501</td>\n",
       "      <td>603915</td>\n",
       "      <td>61271</td>\n",
       "      <td>499998</td>\n",
       "      <td>{\"username\": \"tyrone78\", \"name\": \"Michael Dods...</td>\n",
       "    </tr>\n",
       "  </tbody>\n",
       "</table>\n",
       "</div>"
      ],
      "text/plain": [
       "                            cmp_name  cmp_bgt  cmp_spent  cmp_clicks  \\\n",
       "0  AKX_20240505_20250130_25-30_M_EUR   965482     801270       47633   \n",
       "1  KTR_20240425_20260318_30-50_M_GBP   480386     363936       79887   \n",
       "2  AKX_20221225_20240219_20-35_F_USD   161578     118809       65196   \n",
       "3  AKX_20221222_20241111_20-30_B_EUR    23646      13083       45014   \n",
       "4  AKX_20230525_20240819_45-50_B_USD   938501     603915       61271   \n",
       "\n",
       "   cmp_impr                                               user  \n",
       "0    499998  {\"username\": \"uwalker\", \"name\": \"Tanya Gray\", ...  \n",
       "1    499999  {\"username\": \"uwalker\", \"name\": \"Tanya Gray\", ...  \n",
       "2    500000  {\"username\": \"uwalker\", \"name\": \"Tanya Gray\", ...  \n",
       "3    499997  {\"username\": \"tyrone78\", \"name\": \"Michael Dods...  \n",
       "4    499998  {\"username\": \"tyrone78\", \"name\": \"Michael Dods...  "
      ]
     },
     "execution_count": 2,
     "metadata": {},
     "output_type": "execute_result"
    }
   ],
   "source": [
    "df = pd.read_json(\"data.json\")\n",
    "df.head()"
   ]
  },
  {
   "cell_type": "code",
   "execution_count": 3,
   "id": "e3ffd1aa-c0ae-4c6e-89ba-31716e3eff7e",
   "metadata": {},
   "outputs": [
    {
     "data": {
      "text/plain": [
       "cmp_name      5026\n",
       "cmp_bgt       5026\n",
       "cmp_spent     5026\n",
       "cmp_clicks    5026\n",
       "cmp_impr      5026\n",
       "user          5026\n",
       "dtype: int64"
      ]
     },
     "execution_count": 3,
     "metadata": {},
     "output_type": "execute_result"
    }
   ],
   "source": [
    "df.count()"
   ]
  },
  {
   "cell_type": "code",
   "execution_count": 4,
   "id": "859e429d-1814-4493-ac74-1b0751ac0c08",
   "metadata": {},
   "outputs": [
    {
     "data": {
      "text/html": [
       "<div>\n",
       "<style scoped>\n",
       "    .dataframe tbody tr th:only-of-type {\n",
       "        vertical-align: middle;\n",
       "    }\n",
       "\n",
       "    .dataframe tbody tr th {\n",
       "        vertical-align: top;\n",
       "    }\n",
       "\n",
       "    .dataframe thead th {\n",
       "        text-align: right;\n",
       "    }\n",
       "</style>\n",
       "<table border=\"1\" class=\"dataframe\">\n",
       "  <thead>\n",
       "    <tr style=\"text-align: right;\">\n",
       "      <th></th>\n",
       "      <th>cmp_bgt</th>\n",
       "      <th>cmp_spent</th>\n",
       "      <th>cmp_clicks</th>\n",
       "      <th>cmp_impr</th>\n",
       "    </tr>\n",
       "  </thead>\n",
       "  <tbody>\n",
       "    <tr>\n",
       "      <th>count</th>\n",
       "      <td>5026.000000</td>\n",
       "      <td>5026.000000</td>\n",
       "      <td>5026.000000</td>\n",
       "      <td>5026.000000</td>\n",
       "    </tr>\n",
       "    <tr>\n",
       "      <th>mean</th>\n",
       "      <td>507300.831874</td>\n",
       "      <td>252932.650020</td>\n",
       "      <td>39804.010545</td>\n",
       "      <td>499999.527656</td>\n",
       "    </tr>\n",
       "    <tr>\n",
       "      <th>std</th>\n",
       "      <td>292664.108620</td>\n",
       "      <td>225098.064465</td>\n",
       "      <td>21859.283498</td>\n",
       "      <td>2.048499</td>\n",
       "    </tr>\n",
       "    <tr>\n",
       "      <th>min</th>\n",
       "      <td>1031.000000</td>\n",
       "      <td>115.000000</td>\n",
       "      <td>335.000000</td>\n",
       "      <td>499992.000000</td>\n",
       "    </tr>\n",
       "    <tr>\n",
       "      <th>25%</th>\n",
       "      <td>253623.750000</td>\n",
       "      <td>66728.750000</td>\n",
       "      <td>22223.000000</td>\n",
       "      <td>499998.000000</td>\n",
       "    </tr>\n",
       "    <tr>\n",
       "      <th>50%</th>\n",
       "      <td>513977.500000</td>\n",
       "      <td>185197.500000</td>\n",
       "      <td>36436.000000</td>\n",
       "      <td>500000.000000</td>\n",
       "    </tr>\n",
       "    <tr>\n",
       "      <th>75%</th>\n",
       "      <td>766298.750000</td>\n",
       "      <td>391207.000000</td>\n",
       "      <td>55364.250000</td>\n",
       "      <td>500001.000000</td>\n",
       "    </tr>\n",
       "    <tr>\n",
       "      <th>max</th>\n",
       "      <td>999673.000000</td>\n",
       "      <td>988065.000000</td>\n",
       "      <td>98987.000000</td>\n",
       "      <td>500007.000000</td>\n",
       "    </tr>\n",
       "  </tbody>\n",
       "</table>\n",
       "</div>"
      ],
      "text/plain": [
       "             cmp_bgt      cmp_spent    cmp_clicks       cmp_impr\n",
       "count    5026.000000    5026.000000   5026.000000    5026.000000\n",
       "mean   507300.831874  252932.650020  39804.010545  499999.527656\n",
       "std    292664.108620  225098.064465  21859.283498       2.048499\n",
       "min      1031.000000     115.000000    335.000000  499992.000000\n",
       "25%    253623.750000   66728.750000  22223.000000  499998.000000\n",
       "50%    513977.500000  185197.500000  36436.000000  500000.000000\n",
       "75%    766298.750000  391207.000000  55364.250000  500001.000000\n",
       "max    999673.000000  988065.000000  98987.000000  500007.000000"
      ]
     },
     "execution_count": 4,
     "metadata": {},
     "output_type": "execute_result"
    }
   ],
   "source": [
    "df.describe()"
   ]
  },
  {
   "cell_type": "code",
   "execution_count": 5,
   "id": "f6a62575-1a58-46dc-90a4-7d6a49ce3b4a",
   "metadata": {},
   "outputs": [
    {
     "data": {
      "text/html": [
       "<div>\n",
       "<style scoped>\n",
       "    .dataframe tbody tr th:only-of-type {\n",
       "        vertical-align: middle;\n",
       "    }\n",
       "\n",
       "    .dataframe tbody tr th {\n",
       "        vertical-align: top;\n",
       "    }\n",
       "\n",
       "    .dataframe thead th {\n",
       "        text-align: right;\n",
       "    }\n",
       "</style>\n",
       "<table border=\"1\" class=\"dataframe\">\n",
       "  <thead>\n",
       "    <tr style=\"text-align: right;\">\n",
       "      <th></th>\n",
       "      <th>cmp_name</th>\n",
       "      <th>cmp_bgt</th>\n",
       "      <th>cmp_spent</th>\n",
       "      <th>cmp_clicks</th>\n",
       "      <th>cmp_impr</th>\n",
       "      <th>user</th>\n",
       "    </tr>\n",
       "  </thead>\n",
       "  <tbody>\n",
       "    <tr>\n",
       "      <th>1690</th>\n",
       "      <td>GRZ_20240814_20241130_25-30_F_EUR</td>\n",
       "      <td>999673</td>\n",
       "      <td>25094</td>\n",
       "      <td>43395</td>\n",
       "      <td>499997</td>\n",
       "      <td>{\"username\": \"scarter\", \"name\": \"Katherine Mor...</td>\n",
       "    </tr>\n",
       "    <tr>\n",
       "      <th>2824</th>\n",
       "      <td>KTR_20230411_20230906_45-70_F_GBP</td>\n",
       "      <td>999550</td>\n",
       "      <td>433117</td>\n",
       "      <td>88607</td>\n",
       "      <td>500001</td>\n",
       "      <td>{\"username\": \"usherman\", \"name\": \"Jamie Chavez...</td>\n",
       "    </tr>\n",
       "    <tr>\n",
       "      <th>4382</th>\n",
       "      <td>GRZ_20240426_20240814_40-60_B_EUR</td>\n",
       "      <td>999492</td>\n",
       "      <td>956634</td>\n",
       "      <td>40675</td>\n",
       "      <td>500003</td>\n",
       "      <td>{\"username\": \"jrivera\", \"name\": \"Brandon Mulli...</td>\n",
       "    </tr>\n",
       "  </tbody>\n",
       "</table>\n",
       "</div>"
      ],
      "text/plain": [
       "                               cmp_name  cmp_bgt  cmp_spent  cmp_clicks  \\\n",
       "1690  GRZ_20240814_20241130_25-30_F_EUR   999673      25094       43395   \n",
       "2824  KTR_20230411_20230906_45-70_F_GBP   999550     433117       88607   \n",
       "4382  GRZ_20240426_20240814_40-60_B_EUR   999492     956634       40675   \n",
       "\n",
       "      cmp_impr                                               user  \n",
       "1690    499997  {\"username\": \"scarter\", \"name\": \"Katherine Mor...  \n",
       "2824    500001  {\"username\": \"usherman\", \"name\": \"Jamie Chavez...  \n",
       "4382    500003  {\"username\": \"jrivera\", \"name\": \"Brandon Mulli...  "
      ]
     },
     "execution_count": 5,
     "metadata": {},
     "output_type": "execute_result"
    }
   ],
   "source": [
    "df.sort_values(by=['cmp_bgt'], ascending=False).head(3)"
   ]
  },
  {
   "cell_type": "code",
   "execution_count": 6,
   "id": "14c53238-6989-4245-83d8-0fc3fad58996",
   "metadata": {},
   "outputs": [
    {
     "data": {
      "text/html": [
       "<div>\n",
       "<style scoped>\n",
       "    .dataframe tbody tr th:only-of-type {\n",
       "        vertical-align: middle;\n",
       "    }\n",
       "\n",
       "    .dataframe tbody tr th {\n",
       "        vertical-align: top;\n",
       "    }\n",
       "\n",
       "    .dataframe thead th {\n",
       "        text-align: right;\n",
       "    }\n",
       "</style>\n",
       "<table border=\"1\" class=\"dataframe\">\n",
       "  <thead>\n",
       "    <tr style=\"text-align: right;\">\n",
       "      <th></th>\n",
       "      <th>cmp_name</th>\n",
       "      <th>cmp_bgt</th>\n",
       "      <th>cmp_spent</th>\n",
       "      <th>cmp_clicks</th>\n",
       "      <th>cmp_impr</th>\n",
       "      <th>user</th>\n",
       "    </tr>\n",
       "  </thead>\n",
       "  <tbody>\n",
       "    <tr>\n",
       "      <th>4825</th>\n",
       "      <td>AKX_20221030_20221220_25-40_F_EUR</td>\n",
       "      <td>1433</td>\n",
       "      <td>549</td>\n",
       "      <td>35554</td>\n",
       "      <td>500000</td>\n",
       "      <td>{\"username\": \"conniegonzales\", \"name\": \"Christ...</td>\n",
       "    </tr>\n",
       "    <tr>\n",
       "      <th>5015</th>\n",
       "      <td>AKX_20240615_20251009_45-70_F_EUR</td>\n",
       "      <td>1303</td>\n",
       "      <td>205</td>\n",
       "      <td>88723</td>\n",
       "      <td>500005</td>\n",
       "      <td>{\"username\": \"abrown\", \"name\": \"Stacey Davis\",...</td>\n",
       "    </tr>\n",
       "    <tr>\n",
       "      <th>1946</th>\n",
       "      <td>BYU_20230807_20240727_30-40_B_USD</td>\n",
       "      <td>1031</td>\n",
       "      <td>276</td>\n",
       "      <td>27189</td>\n",
       "      <td>500002</td>\n",
       "      <td>{\"username\": \"jerry26\", \"name\": \"Lisa Booker\",...</td>\n",
       "    </tr>\n",
       "  </tbody>\n",
       "</table>\n",
       "</div>"
      ],
      "text/plain": [
       "                               cmp_name  cmp_bgt  cmp_spent  cmp_clicks  \\\n",
       "4825  AKX_20221030_20221220_25-40_F_EUR     1433        549       35554   \n",
       "5015  AKX_20240615_20251009_45-70_F_EUR     1303        205       88723   \n",
       "1946  BYU_20230807_20240727_30-40_B_USD     1031        276       27189   \n",
       "\n",
       "      cmp_impr                                               user  \n",
       "4825    500000  {\"username\": \"conniegonzales\", \"name\": \"Christ...  \n",
       "5015    500005  {\"username\": \"abrown\", \"name\": \"Stacey Davis\",...  \n",
       "1946    500002  {\"username\": \"jerry26\", \"name\": \"Lisa Booker\",...  "
      ]
     },
     "execution_count": 6,
     "metadata": {},
     "output_type": "execute_result"
    }
   ],
   "source": [
    "df.sort_values(by=['cmp_bgt'], ascending=False).tail(3)"
   ]
  },
  {
   "cell_type": "code",
   "execution_count": 7,
   "id": "d4a88e50-25db-4d47-b914-fa973598bbe9",
   "metadata": {},
   "outputs": [
    {
     "data": {
      "text/html": [
       "<div>\n",
       "<style scoped>\n",
       "    .dataframe tbody tr th:only-of-type {\n",
       "        vertical-align: middle;\n",
       "    }\n",
       "\n",
       "    .dataframe tbody tr th {\n",
       "        vertical-align: top;\n",
       "    }\n",
       "\n",
       "    .dataframe thead th {\n",
       "        text-align: right;\n",
       "    }\n",
       "</style>\n",
       "<table border=\"1\" class=\"dataframe\">\n",
       "  <thead>\n",
       "    <tr style=\"text-align: right;\">\n",
       "      <th></th>\n",
       "      <th>Type</th>\n",
       "      <th>Start</th>\n",
       "      <th>End</th>\n",
       "      <th>Target Age</th>\n",
       "      <th>Target Gender</th>\n",
       "      <th>Currency</th>\n",
       "    </tr>\n",
       "  </thead>\n",
       "  <tbody>\n",
       "    <tr>\n",
       "      <th>0</th>\n",
       "      <td>AKX</td>\n",
       "      <td>2024-05-05</td>\n",
       "      <td>2025-01-30</td>\n",
       "      <td>25-30</td>\n",
       "      <td>M</td>\n",
       "      <td>EUR</td>\n",
       "    </tr>\n",
       "    <tr>\n",
       "      <th>1</th>\n",
       "      <td>KTR</td>\n",
       "      <td>2024-04-25</td>\n",
       "      <td>2026-03-18</td>\n",
       "      <td>30-50</td>\n",
       "      <td>M</td>\n",
       "      <td>GBP</td>\n",
       "    </tr>\n",
       "    <tr>\n",
       "      <th>2</th>\n",
       "      <td>AKX</td>\n",
       "      <td>2022-12-25</td>\n",
       "      <td>2024-02-19</td>\n",
       "      <td>20-35</td>\n",
       "      <td>F</td>\n",
       "      <td>USD</td>\n",
       "    </tr>\n",
       "  </tbody>\n",
       "</table>\n",
       "</div>"
      ],
      "text/plain": [
       "  Type       Start         End Target Age Target Gender Currency\n",
       "0  AKX  2024-05-05  2025-01-30      25-30             M      EUR\n",
       "1  KTR  2024-04-25  2026-03-18      30-50             M      GBP\n",
       "2  AKX  2022-12-25  2024-02-19      20-35             F      USD"
      ]
     },
     "execution_count": 7,
     "metadata": {},
     "output_type": "execute_result"
    }
   ],
   "source": [
    "def unpack_campaign_name(name):\n",
    "    # very optimistic method, assumes data in campaign name\n",
    "    # is always in good state\n",
    "    type_, start, end, age, gender, currency = name.split('_')\n",
    "    start = arrow.get(start, 'YYYYMMDD').date()\n",
    "    end = arrow.get(end, 'YYYYMMDD').date()\n",
    "    return type_, start, end, age, gender, currency\n",
    "\n",
    "campaign_data = df['cmp_name'].apply(unpack_campaign_name)\n",
    "campaign_cols = [\n",
    "    'Type', 'Start', 'End', 'Target Age', 'Target Gender',\n",
    "    'Currency']\n",
    "campaign_df = DataFrame(\n",
    "    campaign_data.tolist(), columns=campaign_cols, index=df.index)\n",
    "campaign_df.head(3)"
   ]
  },
  {
   "cell_type": "code",
   "execution_count": 8,
   "id": "9f0f9983-263d-442d-84a5-f43bf1edfdbd",
   "metadata": {},
   "outputs": [],
   "source": [
    "df = df.join(campaign_df)"
   ]
  },
  {
   "cell_type": "code",
   "execution_count": 9,
   "id": "b60717ab-9421-4900-a70d-2f3d51547ed4",
   "metadata": {},
   "outputs": [
    {
     "data": {
      "text/html": [
       "<div>\n",
       "<style scoped>\n",
       "    .dataframe tbody tr th:only-of-type {\n",
       "        vertical-align: middle;\n",
       "    }\n",
       "\n",
       "    .dataframe tbody tr th {\n",
       "        vertical-align: top;\n",
       "    }\n",
       "\n",
       "    .dataframe thead th {\n",
       "        text-align: right;\n",
       "    }\n",
       "</style>\n",
       "<table border=\"1\" class=\"dataframe\">\n",
       "  <thead>\n",
       "    <tr style=\"text-align: right;\">\n",
       "      <th></th>\n",
       "      <th>cmp_name</th>\n",
       "      <th>Type</th>\n",
       "      <th>Start</th>\n",
       "      <th>End</th>\n",
       "      <th>Target Age</th>\n",
       "      <th>Target Gender</th>\n",
       "      <th>Currency</th>\n",
       "    </tr>\n",
       "  </thead>\n",
       "  <tbody>\n",
       "    <tr>\n",
       "      <th>0</th>\n",
       "      <td>AKX_20240505_20250130_25-30_M_EUR</td>\n",
       "      <td>AKX</td>\n",
       "      <td>2024-05-05</td>\n",
       "      <td>2025-01-30</td>\n",
       "      <td>25-30</td>\n",
       "      <td>M</td>\n",
       "      <td>EUR</td>\n",
       "    </tr>\n",
       "    <tr>\n",
       "      <th>1</th>\n",
       "      <td>KTR_20240425_20260318_30-50_M_GBP</td>\n",
       "      <td>KTR</td>\n",
       "      <td>2024-04-25</td>\n",
       "      <td>2026-03-18</td>\n",
       "      <td>30-50</td>\n",
       "      <td>M</td>\n",
       "      <td>GBP</td>\n",
       "    </tr>\n",
       "    <tr>\n",
       "      <th>2</th>\n",
       "      <td>AKX_20221225_20240219_20-35_F_USD</td>\n",
       "      <td>AKX</td>\n",
       "      <td>2022-12-25</td>\n",
       "      <td>2024-02-19</td>\n",
       "      <td>20-35</td>\n",
       "      <td>F</td>\n",
       "      <td>USD</td>\n",
       "    </tr>\n",
       "  </tbody>\n",
       "</table>\n",
       "</div>"
      ],
      "text/plain": [
       "                            cmp_name Type       Start         End Target Age  \\\n",
       "0  AKX_20240505_20250130_25-30_M_EUR  AKX  2024-05-05  2025-01-30      25-30   \n",
       "1  KTR_20240425_20260318_30-50_M_GBP  KTR  2024-04-25  2026-03-18      30-50   \n",
       "2  AKX_20221225_20240219_20-35_F_USD  AKX  2022-12-25  2024-02-19      20-35   \n",
       "\n",
       "  Target Gender Currency  \n",
       "0             M      EUR  \n",
       "1             M      GBP  \n",
       "2             F      USD  "
      ]
     },
     "execution_count": 9,
     "metadata": {},
     "output_type": "execute_result"
    }
   ],
   "source": [
    "df[['cmp_name'] + campaign_cols].head(3)"
   ]
  },
  {
   "cell_type": "code",
   "execution_count": 10,
   "id": "bf69b2f4-0dd1-4be5-924e-d573f2bf1d4f",
   "metadata": {},
   "outputs": [],
   "source": [
    "def unpack_user_json(user):\n",
    "    # very optimistic as well, expects user objects\n",
    "    # to have all attributes\n",
    "    user = json.loads(user.strip())\n",
    "    return [\n",
    "        user['username'],\n",
    "        user['email'],\n",
    "        user['name'],\n",
    "        user['gender'],\n",
    "        user['age'],\n",
    "        user['address']\n",
    "    ]\n",
    "\n",
    "user_data = df['user'].apply(unpack_user_json)\n",
    "user_cols = [\n",
    "    'username', 'email', 'name', 'gender', 'age', 'address']\n",
    "user_df = DataFrame(\n",
    "    user_data.tolist(), columns=user_cols, index=df.index)"
   ]
  },
  {
   "cell_type": "code",
   "execution_count": 11,
   "id": "0bb01872-37b7-44fd-a353-eeb206ee731f",
   "metadata": {},
   "outputs": [],
   "source": [
    "df = df.join(user_df)"
   ]
  },
  {
   "cell_type": "code",
   "execution_count": 12,
   "id": "66d305c7-6a24-49f0-bece-242dfa322017",
   "metadata": {},
   "outputs": [
    {
     "data": {
      "text/html": [
       "<div>\n",
       "<style scoped>\n",
       "    .dataframe tbody tr th:only-of-type {\n",
       "        vertical-align: middle;\n",
       "    }\n",
       "\n",
       "    .dataframe tbody tr th {\n",
       "        vertical-align: top;\n",
       "    }\n",
       "\n",
       "    .dataframe thead th {\n",
       "        text-align: right;\n",
       "    }\n",
       "</style>\n",
       "<table border=\"1\" class=\"dataframe\">\n",
       "  <thead>\n",
       "    <tr style=\"text-align: right;\">\n",
       "      <th></th>\n",
       "      <th>user</th>\n",
       "      <th>username</th>\n",
       "      <th>email</th>\n",
       "      <th>name</th>\n",
       "      <th>gender</th>\n",
       "      <th>age</th>\n",
       "      <th>address</th>\n",
       "    </tr>\n",
       "  </thead>\n",
       "  <tbody>\n",
       "    <tr>\n",
       "      <th>0</th>\n",
       "      <td>{\"username\": \"uwalker\", \"name\": \"Tanya Gray\", ...</td>\n",
       "      <td>uwalker</td>\n",
       "      <td>fmarquez@example.net</td>\n",
       "      <td>Tanya Gray</td>\n",
       "      <td>F</td>\n",
       "      <td>43</td>\n",
       "      <td>PSC 3134, Box 2577\\nAPO AP 25102</td>\n",
       "    </tr>\n",
       "    <tr>\n",
       "      <th>1</th>\n",
       "      <td>{\"username\": \"uwalker\", \"name\": \"Tanya Gray\", ...</td>\n",
       "      <td>uwalker</td>\n",
       "      <td>fmarquez@example.net</td>\n",
       "      <td>Tanya Gray</td>\n",
       "      <td>F</td>\n",
       "      <td>43</td>\n",
       "      <td>PSC 3134, Box 2577\\nAPO AP 25102</td>\n",
       "    </tr>\n",
       "  </tbody>\n",
       "</table>\n",
       "</div>"
      ],
      "text/plain": [
       "                                                user username  \\\n",
       "0  {\"username\": \"uwalker\", \"name\": \"Tanya Gray\", ...  uwalker   \n",
       "1  {\"username\": \"uwalker\", \"name\": \"Tanya Gray\", ...  uwalker   \n",
       "\n",
       "                  email        name gender  age  \\\n",
       "0  fmarquez@example.net  Tanya Gray      F   43   \n",
       "1  fmarquez@example.net  Tanya Gray      F   43   \n",
       "\n",
       "                            address  \n",
       "0  PSC 3134, Box 2577\\nAPO AP 25102  \n",
       "1  PSC 3134, Box 2577\\nAPO AP 25102  "
      ]
     },
     "execution_count": 12,
     "metadata": {},
     "output_type": "execute_result"
    }
   ],
   "source": [
    "df[['user'] + user_cols].head(2)"
   ]
  },
  {
   "cell_type": "code",
   "execution_count": 13,
   "id": "afdd0cd0-d115-40ee-9828-9abc1faac4f8",
   "metadata": {},
   "outputs": [],
   "source": [
    "new_column_names = {\n",
    "    'cmp_bgt': 'Budget',\n",
    "    'cmp_spent': 'Spent',\n",
    "    'cmp_clicks': 'Clicks',\n",
    "    'cmp_impr': 'Impressions'\n",
    "}\n",
    "df.rename(columns=new_column_names, inplace=True)"
   ]
  },
  {
   "cell_type": "code",
   "execution_count": 14,
   "id": "22b364cd-7dd1-411f-a326-17908071263b",
   "metadata": {},
   "outputs": [],
   "source": [
    "def calculate_extra_columns(df):\n",
    "    # Click Through Rate\n",
    "    df['CTR'] = df['Clicks'] / df['Impressions']\n",
    "    # Cost Per Click\n",
    "    df['CPC'] = df['Spent'] / df['Clicks']\n",
    "    #Cost Per Impression\n",
    "    df['CPI'] = df['Spent'] / df['Impressions']\n",
    "calculate_extra_columns(df)"
   ]
  },
  {
   "cell_type": "code",
   "execution_count": 15,
   "id": "c847fe5b-8485-450f-9401-537eccd30e25",
   "metadata": {},
   "outputs": [
    {
     "data": {
      "text/html": [
       "<div>\n",
       "<style scoped>\n",
       "    .dataframe tbody tr th:only-of-type {\n",
       "        vertical-align: middle;\n",
       "    }\n",
       "\n",
       "    .dataframe tbody tr th {\n",
       "        vertical-align: top;\n",
       "    }\n",
       "\n",
       "    .dataframe thead th {\n",
       "        text-align: right;\n",
       "    }\n",
       "</style>\n",
       "<table border=\"1\" class=\"dataframe\">\n",
       "  <thead>\n",
       "    <tr style=\"text-align: right;\">\n",
       "      <th></th>\n",
       "      <th>Spent</th>\n",
       "      <th>Clicks</th>\n",
       "      <th>Impressions</th>\n",
       "      <th>CTR</th>\n",
       "      <th>CPC</th>\n",
       "      <th>CPI</th>\n",
       "    </tr>\n",
       "  </thead>\n",
       "  <tbody>\n",
       "    <tr>\n",
       "      <th>0</th>\n",
       "      <td>801270</td>\n",
       "      <td>47633</td>\n",
       "      <td>499998</td>\n",
       "      <td>0.095266</td>\n",
       "      <td>16.821741</td>\n",
       "      <td>1.602546</td>\n",
       "    </tr>\n",
       "    <tr>\n",
       "      <th>1</th>\n",
       "      <td>363936</td>\n",
       "      <td>79887</td>\n",
       "      <td>499999</td>\n",
       "      <td>0.159774</td>\n",
       "      <td>4.555635</td>\n",
       "      <td>0.727873</td>\n",
       "    </tr>\n",
       "    <tr>\n",
       "      <th>2</th>\n",
       "      <td>118809</td>\n",
       "      <td>65196</td>\n",
       "      <td>500000</td>\n",
       "      <td>0.130392</td>\n",
       "      <td>1.822336</td>\n",
       "      <td>0.237618</td>\n",
       "    </tr>\n",
       "  </tbody>\n",
       "</table>\n",
       "</div>"
      ],
      "text/plain": [
       "    Spent  Clicks  Impressions       CTR        CPC       CPI\n",
       "0  801270   47633       499998  0.095266  16.821741  1.602546\n",
       "1  363936   79887       499999  0.159774   4.555635  0.727873\n",
       "2  118809   65196       500000  0.130392   1.822336  0.237618"
      ]
     },
     "execution_count": 15,
     "metadata": {},
     "output_type": "execute_result"
    }
   ],
   "source": [
    "df[['Spent', 'Clicks', 'Impressions',\n",
    "    'CTR', 'CPC', 'CPI']].head(3)"
   ]
  },
  {
   "cell_type": "code",
   "execution_count": 16,
   "id": "a1023dc0-c95d-4db9-ac46-44046d00fe96",
   "metadata": {},
   "outputs": [
    {
     "name": "stdout",
     "output_type": "stream",
     "text": [
      "CTR: 0.09526638106552426 0.09526638106552426\n",
      "CPC: 16.82174122981966 16.82174122981966\n",
      "CPI: 1.6025464101856408 1.6025464101856408\n"
     ]
    }
   ],
   "source": [
    "clicks = df['Clicks'][0]\n",
    "impressions = df['Impressions'][0]\n",
    "spent = df['Spent'][0]\n",
    "CTR = df['CTR'][0]\n",
    "CPC = df['CPC'][0]\n",
    "CPI = df['CPI'][0]\n",
    "print('CTR:', CTR, clicks / impressions)\n",
    "print('CPC:', CPC, spent / clicks)\n",
    "print('CPI:', CPI, spent / impressions)"
   ]
  },
  {
   "cell_type": "code",
   "execution_count": 17,
   "id": "3b543451-a4c9-4af3-ba92-a06016df82f5",
   "metadata": {},
   "outputs": [],
   "source": [
    "def get_day_of_the_week(day):\n",
    "    return day.strftime(\"%A\")\n",
    "def get_duration(row):\n",
    "    return (row['End'] - row['Start']).days\n",
    "\n",
    "df['Day of Week'] = df['Start'].apply(get_day_of_the_week)\n",
    "df['Duration'] = df.apply(get_duration, axis=1)"
   ]
  },
  {
   "cell_type": "code",
   "execution_count": 18,
   "id": "19454d32-ff61-46dd-8ed6-e33c7bcdbdbf",
   "metadata": {},
   "outputs": [
    {
     "data": {
      "text/html": [
       "<div>\n",
       "<style scoped>\n",
       "    .dataframe tbody tr th:only-of-type {\n",
       "        vertical-align: middle;\n",
       "    }\n",
       "\n",
       "    .dataframe tbody tr th {\n",
       "        vertical-align: top;\n",
       "    }\n",
       "\n",
       "    .dataframe thead th {\n",
       "        text-align: right;\n",
       "    }\n",
       "</style>\n",
       "<table border=\"1\" class=\"dataframe\">\n",
       "  <thead>\n",
       "    <tr style=\"text-align: right;\">\n",
       "      <th></th>\n",
       "      <th>Start</th>\n",
       "      <th>End</th>\n",
       "      <th>Duration</th>\n",
       "      <th>Day of Week</th>\n",
       "    </tr>\n",
       "  </thead>\n",
       "  <tbody>\n",
       "    <tr>\n",
       "      <th>0</th>\n",
       "      <td>2024-05-05</td>\n",
       "      <td>2025-01-30</td>\n",
       "      <td>270</td>\n",
       "      <td>Sunday</td>\n",
       "    </tr>\n",
       "    <tr>\n",
       "      <th>1</th>\n",
       "      <td>2024-04-25</td>\n",
       "      <td>2026-03-18</td>\n",
       "      <td>692</td>\n",
       "      <td>Thursday</td>\n",
       "    </tr>\n",
       "    <tr>\n",
       "      <th>2</th>\n",
       "      <td>2022-12-25</td>\n",
       "      <td>2024-02-19</td>\n",
       "      <td>421</td>\n",
       "      <td>Sunday</td>\n",
       "    </tr>\n",
       "  </tbody>\n",
       "</table>\n",
       "</div>"
      ],
      "text/plain": [
       "        Start         End  Duration Day of Week\n",
       "0  2024-05-05  2025-01-30       270      Sunday\n",
       "1  2024-04-25  2026-03-18       692    Thursday\n",
       "2  2022-12-25  2024-02-19       421      Sunday"
      ]
     },
     "execution_count": 18,
     "metadata": {},
     "output_type": "execute_result"
    }
   ],
   "source": [
    "df[['Start', 'End', 'Duration', 'Day of Week']].head(3)"
   ]
  },
  {
   "cell_type": "code",
   "execution_count": 19,
   "id": "b2e6e40b-c253-4eb2-84e9-9aafdbc93bd4",
   "metadata": {},
   "outputs": [],
   "source": [
    "final_columns = [\n",
    "    'Type', 'Start', 'End', 'Duration', 'Day of Week', 'Budget',\n",
    "    'Currency', 'Clicks', 'Impressions', 'Spent', 'CTR', 'CPC',\n",
    "    'CPI', 'Target Age', 'Target Gender', 'username', 'email',\n",
    "    'name', 'gender', 'age'\n",
    "]\n",
    "df = df[final_columns]"
   ]
  },
  {
   "cell_type": "code",
   "execution_count": 20,
   "id": "e5255df3-4f19-46b8-95bf-05657b6cf9a7",
   "metadata": {},
   "outputs": [],
   "source": [
    "df.to_csv('df.csv')"
   ]
  },
  {
   "cell_type": "code",
   "execution_count": 21,
   "id": "ad7e9439-56ca-4b05-a8de-55e59f062863",
   "metadata": {},
   "outputs": [],
   "source": [
    "df.to_json('df.json')"
   ]
  },
  {
   "cell_type": "code",
   "execution_count": 22,
   "id": "0240fea8-daad-489c-bf03-9017f704e189",
   "metadata": {},
   "outputs": [],
   "source": [
    "df.to_excel('df.xlsx')"
   ]
  },
  {
   "cell_type": "code",
   "execution_count": 23,
   "id": "f2c18101-12b1-4e37-a600-83b0fd1d6531",
   "metadata": {},
   "outputs": [],
   "source": [
    "%matplotlib inline"
   ]
  },
  {
   "cell_type": "code",
   "execution_count": 24,
   "id": "6fa2fd8d-7dd6-43d1-b5ab-b0d5257aa466",
   "metadata": {},
   "outputs": [],
   "source": [
    "import matplotlib.pyplot as plt\n",
    "plt.style.use(['classic', 'ggplot'])\n",
    "plt.rc('font', family='serif')"
   ]
  },
  {
   "cell_type": "code",
   "execution_count": 25,
   "id": "70fb0b16-da20-456c-b98f-639514f7150d",
   "metadata": {},
   "outputs": [
    {
     "data": {
      "text/html": [
       "<div>\n",
       "<style scoped>\n",
       "    .dataframe tbody tr th:only-of-type {\n",
       "        vertical-align: middle;\n",
       "    }\n",
       "\n",
       "    .dataframe tbody tr th {\n",
       "        vertical-align: top;\n",
       "    }\n",
       "\n",
       "    .dataframe thead th {\n",
       "        text-align: right;\n",
       "    }\n",
       "</style>\n",
       "<table border=\"1\" class=\"dataframe\">\n",
       "  <thead>\n",
       "    <tr style=\"text-align: right;\">\n",
       "      <th></th>\n",
       "      <th>Duration</th>\n",
       "      <th>Budget</th>\n",
       "      <th>Clicks</th>\n",
       "      <th>Impressions</th>\n",
       "      <th>Spent</th>\n",
       "      <th>CTR</th>\n",
       "      <th>CPC</th>\n",
       "      <th>CPI</th>\n",
       "      <th>age</th>\n",
       "    </tr>\n",
       "  </thead>\n",
       "  <tbody>\n",
       "    <tr>\n",
       "      <th>count</th>\n",
       "      <td>5026.000000</td>\n",
       "      <td>5026.000000</td>\n",
       "      <td>5026.000000</td>\n",
       "      <td>5026.000000</td>\n",
       "      <td>5026.000000</td>\n",
       "      <td>5026.000000</td>\n",
       "      <td>5026.000000</td>\n",
       "      <td>5026.000000</td>\n",
       "      <td>5026.000000</td>\n",
       "    </tr>\n",
       "    <tr>\n",
       "      <th>mean</th>\n",
       "      <td>362.339037</td>\n",
       "      <td>507300.831874</td>\n",
       "      <td>39804.010545</td>\n",
       "      <td>499999.527656</td>\n",
       "      <td>252932.650020</td>\n",
       "      <td>0.079608</td>\n",
       "      <td>10.073472</td>\n",
       "      <td>0.505866</td>\n",
       "      <td>54.998209</td>\n",
       "    </tr>\n",
       "    <tr>\n",
       "      <th>std</th>\n",
       "      <td>210.952796</td>\n",
       "      <td>292664.108620</td>\n",
       "      <td>21859.283498</td>\n",
       "      <td>2.048499</td>\n",
       "      <td>225098.064465</td>\n",
       "      <td>0.043719</td>\n",
       "      <td>17.751977</td>\n",
       "      <td>0.450197</td>\n",
       "      <td>20.175839</td>\n",
       "    </tr>\n",
       "    <tr>\n",
       "      <th>min</th>\n",
       "      <td>1.000000</td>\n",
       "      <td>1031.000000</td>\n",
       "      <td>335.000000</td>\n",
       "      <td>499992.000000</td>\n",
       "      <td>115.000000</td>\n",
       "      <td>0.000670</td>\n",
       "      <td>0.001347</td>\n",
       "      <td>0.000230</td>\n",
       "      <td>18.000000</td>\n",
       "    </tr>\n",
       "    <tr>\n",
       "      <th>25%</th>\n",
       "      <td>180.000000</td>\n",
       "      <td>253623.750000</td>\n",
       "      <td>22223.000000</td>\n",
       "      <td>499998.000000</td>\n",
       "      <td>66728.750000</td>\n",
       "      <td>0.044446</td>\n",
       "      <td>1.817635</td>\n",
       "      <td>0.133458</td>\n",
       "      <td>39.000000</td>\n",
       "    </tr>\n",
       "    <tr>\n",
       "      <th>50%</th>\n",
       "      <td>360.000000</td>\n",
       "      <td>513977.500000</td>\n",
       "      <td>36436.000000</td>\n",
       "      <td>500000.000000</td>\n",
       "      <td>185197.500000</td>\n",
       "      <td>0.072872</td>\n",
       "      <td>5.094721</td>\n",
       "      <td>0.370396</td>\n",
       "      <td>54.000000</td>\n",
       "    </tr>\n",
       "    <tr>\n",
       "      <th>75%</th>\n",
       "      <td>548.000000</td>\n",
       "      <td>766298.750000</td>\n",
       "      <td>55364.250000</td>\n",
       "      <td>500001.000000</td>\n",
       "      <td>391207.000000</td>\n",
       "      <td>0.110729</td>\n",
       "      <td>11.660938</td>\n",
       "      <td>0.782415</td>\n",
       "      <td>73.000000</td>\n",
       "    </tr>\n",
       "    <tr>\n",
       "      <th>max</th>\n",
       "      <td>730.000000</td>\n",
       "      <td>999673.000000</td>\n",
       "      <td>98987.000000</td>\n",
       "      <td>500007.000000</td>\n",
       "      <td>988065.000000</td>\n",
       "      <td>0.197974</td>\n",
       "      <td>393.977238</td>\n",
       "      <td>1.976126</td>\n",
       "      <td>90.000000</td>\n",
       "    </tr>\n",
       "  </tbody>\n",
       "</table>\n",
       "</div>"
      ],
      "text/plain": [
       "          Duration         Budget        Clicks    Impressions          Spent  \\\n",
       "count  5026.000000    5026.000000   5026.000000    5026.000000    5026.000000   \n",
       "mean    362.339037  507300.831874  39804.010545  499999.527656  252932.650020   \n",
       "std     210.952796  292664.108620  21859.283498       2.048499  225098.064465   \n",
       "min       1.000000    1031.000000    335.000000  499992.000000     115.000000   \n",
       "25%     180.000000  253623.750000  22223.000000  499998.000000   66728.750000   \n",
       "50%     360.000000  513977.500000  36436.000000  500000.000000  185197.500000   \n",
       "75%     548.000000  766298.750000  55364.250000  500001.000000  391207.000000   \n",
       "max     730.000000  999673.000000  98987.000000  500007.000000  988065.000000   \n",
       "\n",
       "               CTR          CPC          CPI          age  \n",
       "count  5026.000000  5026.000000  5026.000000  5026.000000  \n",
       "mean      0.079608    10.073472     0.505866    54.998209  \n",
       "std       0.043719    17.751977     0.450197    20.175839  \n",
       "min       0.000670     0.001347     0.000230    18.000000  \n",
       "25%       0.044446     1.817635     0.133458    39.000000  \n",
       "50%       0.072872     5.094721     0.370396    54.000000  \n",
       "75%       0.110729    11.660938     0.782415    73.000000  \n",
       "max       0.197974   393.977238     1.976126    90.000000  "
      ]
     },
     "execution_count": 25,
     "metadata": {},
     "output_type": "execute_result"
    }
   ],
   "source": [
    "df.describe()"
   ]
  },
  {
   "cell_type": "code",
   "execution_count": 26,
   "id": "c79f66cb-be36-4428-9253-737887bd182e",
   "metadata": {},
   "outputs": [
    {
     "data": {
      "image/png": "[encoded data removed]",
      "text/plain": [
       "<Figure size 1280x480 with 4 Axes>"
      ]
     },
     "metadata": {},
     "output_type": "display_data"
    }
   ],
   "source": [
    "df[['Budget', 'Spent', 'Clicks', 'Impressions']].hist(bins=16, figsize=(16, 6));"
   ]
  },
  {
   "cell_type": "code",
   "execution_count": 27,
   "id": "8c9c44c0-8a0b-4e62-9b0b-2f8c3df6ee2e",
   "metadata": {},
   "outputs": [
    {
     "data": {
      "text/plain": [
       "array([[<Axes: title={'center': 'CTR'}>, <Axes: title={'center': 'CPC'}>],\n",
       "       [<Axes: title={'center': 'CPI'}>, <Axes: >]], dtype=object)"
      ]
     },
     "execution_count": 27,
     "metadata": {},
     "output_type": "execute_result"
    },
    {
     "data": {
      "image/png": "[encoded data removed]",
      "text/plain": [
       "<Figure size 1280x480 with 4 Axes>"
      ]
     },
     "metadata": {},
     "output_type": "display_data"
    }
   ],
   "source": [
    "df[['CTR', 'CPC', 'CPI']].hist(\n",
    "    bins=20, figsize=(16, 6))"
   ]
  },
  {
   "cell_type": "code",
   "execution_count": 28,
   "id": "dd04c87b-15a4-4d97-85df-5220cd505434",
   "metadata": {},
   "outputs": [
    {
     "data": {
      "image/png": "[encoded data removed]",
      "text/plain": [
       "<Figure size 1280x480 with 4 Axes>"
      ]
     },
     "metadata": {},
     "output_type": "display_data"
    }
   ],
   "source": [
    "selector = (df.Spent > 0.75 * df.Budget)\n",
    "df[selector][['Budget', 'Spent', 'Clicks', 'Impressions']].hist(\n",
    "    bins=15, figsize=(16, 6), color='green');"
   ]
  },
  {
   "cell_type": "code",
   "execution_count": null,
   "id": "4814271d-763a-428e-982f-f7c8032bf851",
   "metadata": {},
   "outputs": [],
   "source": []
  }
 ],
 "metadata": {
  "kernelspec": {
   "display_name": "Python 3 (ipykernel)",
   "language": "python",
   "name": "python3"
  },
  "language_info": {
   "codemirror_mode": {
    "name": "ipython",
    "version": 3
   },
   "file_extension": ".py",
   "mimetype": "text/x-python",
   "name": "python",
   "nbconvert_exporter": "python",
   "pygments_lexer": "ipython3",
   "version": "3.11.3"
  }
 },
 "nbformat": 4,
 "nbformat_minor": 5
}
